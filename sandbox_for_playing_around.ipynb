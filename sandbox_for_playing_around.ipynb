{
 "cells": [
  {
   "cell_type": "code",
   "execution_count": null,
   "id": "e8a02344",
   "metadata": {},
   "outputs": [],
   "source": [
    "# Import all the modules we'll be using for this tutorial\n",
    "\n",
    "import numpy as np\n",
    "import matplotlib.pylab as plt\n",
    "\n",
    "# For manipulating and plotting the data\n",
    "import pandas as pd\n",
    "\n",
    "# For plotting the data a little prettier\n",
    "import seaborn as sns\n"
   ]
  },
  {
   "cell_type": "code",
   "execution_count": null,
   "id": "ace943ce",
   "metadata": {},
   "outputs": [],
   "source": [
    "filename = 'datasets/gun_violence_data.csv'\n",
    "\n",
    "# Bellis\n",
    "#filename = 'gun_violence_school_shootings.csv'\n",
    "\n",
    "df = pd.read_csv(filename)\n",
    "\n",
    "df"
   ]
  },
  {
   "cell_type": "code",
   "execution_count": null,
   "id": "694dbf07-0c7b-49af-9929-b5d499f73bfd",
   "metadata": {},
   "outputs": [],
   "source": [
    "incidents_df = pd.DataFrame(df)\n",
    "\n",
    "total_deaths = incidents_df[\"Victims Killed\"].sum()\n",
    "\n",
    "print(\"Total number of deaths:\", total_deaths)"
   ]
  },
  {
   "cell_type": "code",
   "execution_count": null,
   "id": "c2d3ea10-b43d-47ab-bc12-1f4e20f3e7f6",
   "metadata": {},
   "outputs": [],
   "source": [
    "\n",
    "total_deaths = incidents_df[\"Incident ID\"].count()\n",
    "\n",
    "print(\"Total number of deaths:\", total_deaths)"
   ]
  },
  {
   "cell_type": "code",
   "execution_count": null,
   "id": "82b582ce-5f16-40c2-8c87-746a940f2c11",
   "metadata": {},
   "outputs": [],
   "source": [
    "total_deaths = incidents_df[\"Victims Injured\"].sum()\n",
    "\n",
    "print(\"Total number of deaths:\", total_deaths)"
   ]
  },
  {
   "cell_type": "code",
   "execution_count": null,
   "id": "94ad6ae5",
   "metadata": {},
   "outputs": [],
   "source": [
    "incidents_by_state = df.groupby('State')['Incident ID'].count()\n",
    "injuries_by_state = df.groupby('State')['Victims Injured'].sum()\n",
    "fatalities_by_state = df.groupby('State')['Victims Killed'].sum()\n",
    "print(\"Number of incidents in each state:\")\n",
    "print(incidents_by_state)\n",
    "\n",
    "print(\"Number of injuries in each state:\")\n",
    "print(injuries_by_state)\n",
    "\n",
    "print(\"Number of fatalities in each state:\")\n",
    "print(fatalities_by_state)"
   ]
  },
  {
   "cell_type": "code",
   "execution_count": null,
   "id": "2f36f040-187d-4e14-b9bd-e7cd7c6782ea",
   "metadata": {},
   "outputs": [],
   "source": []
  },
  {
   "cell_type": "code",
   "execution_count": null,
   "id": "40517a65",
   "metadata": {},
   "outputs": [],
   "source": [
    "incidents_by_state.sort_values(ascending=False)"
   ]
  },
  {
   "cell_type": "markdown",
   "id": "689006a9",
   "metadata": {},
   "source": [
    "# Population file"
   ]
  },
  {
   "cell_type": "code",
   "execution_count": null,
   "id": "e70aca96",
   "metadata": {},
   "outputs": [],
   "source": [
    "filename = 'population_dataset.csv'\n",
    "dfpop = pd.read_csv(filename)\n",
    "\n",
    "dfpop.sample(3)"
   ]
  },
  {
   "cell_type": "code",
   "execution_count": null,
   "id": "ac61a89a",
   "metadata": {},
   "outputs": [],
   "source": [
    "grouped = dfpop.groupby('REGION')\n",
    "\n",
    "grouped.groups.keys()\n",
    "\n",
    "grouped.get_group('1')['NAME']"
   ]
  },
  {
   "cell_type": "markdown",
   "id": "f5070b88",
   "metadata": {},
   "source": [
    "*Italics!*"
   ]
  },
  {
   "cell_type": "code",
   "execution_count": null,
   "id": "7330eeb9",
   "metadata": {},
   "outputs": [],
   "source": [
    "mask = dfpop['STATE'] > 0\n",
    "\n",
    "sns.relplot(data=dfpop[mask], x='NAME', y='POPESTIMATE2023', height=4, aspect=2)\n",
    "\n",
    "plt.xticks(rotation=90);\n"
   ]
  },
  {
   "cell_type": "code",
   "execution_count": null,
   "id": "4776d7df",
   "metadata": {},
   "outputs": [],
   "source": []
  },
  {
   "cell_type": "code",
   "execution_count": null,
   "id": "621b335c",
   "metadata": {},
   "outputs": [],
   "source": [
    "state = 'Alabama'\n",
    "x = incidents_by_state[state]\n",
    "y = dfpop[dfpop['NAME']==state]['POPESTIMATE2023'].values[0]\n",
    "print(x)\n",
    "print(y)"
   ]
  },
  {
   "cell_type": "code",
   "execution_count": null,
   "id": "9b476ec3-a662-4e9b-8b51-430134a067ea",
   "metadata": {},
   "outputs": [],
   "source": [
    "total_victims = df[\"Victims Killed\"].sum() \n",
    "total_victims"
   ]
  },
  {
   "cell_type": "code",
   "execution_count": null,
   "id": "f8d8c22b-2a79-4254-a29a-d98a38f90207",
   "metadata": {},
   "outputs": [],
   "source": [
    "population_sum = dfpop[\"POPESTIMATE2021\"].sum()\n",
    "population_sum"
   ]
  },
  {
   "cell_type": "code",
   "execution_count": null,
   "id": "77ab6afb-603c-4e1a-872f-7bcb4684fd9e",
   "metadata": {},
   "outputs": [],
   "source": [
    "dfpop['STATE'] = dfpop['STATE'].astype(str)\n",
    "\n",
    "merged_df = pd.merge(df, dfpop, left_on=\"State\", right_on=\"STATE\")\n",
    "\n",
    "percentage_involved = (total_victims / population_sum) * 100\n",
    "percentage_involved"
   ]
  },
  {
   "cell_type": "markdown",
   "id": "f4d225cd",
   "metadata": {},
   "source": [
    "# Gun ownership laws"
   ]
  },
  {
   "cell_type": "code",
   "execution_count": null,
   "id": "5f953574",
   "metadata": {},
   "outputs": [],
   "source": [
    "filename = 'TL-354-State-Level Estimates of Household Firearm Ownership.xlsx'\n",
    "\n",
    "dfgo = pd.read_excel(filename, sheet_name='State-Level Data & Factor Score')\n",
    "\n",
    "dfgo"
   ]
  },
  {
   "cell_type": "code",
   "execution_count": null,
   "id": "e39d00bb",
   "metadata": {},
   "outputs": [],
   "source": [
    "dfgo['Year'].unique()"
   ]
  },
  {
   "cell_type": "code",
   "execution_count": null,
   "id": "29915f86",
   "metadata": {},
   "outputs": [],
   "source": []
  },
  {
   "cell_type": "code",
   "execution_count": null,
   "id": "ee0446aa-6e8b-4c9f-a293-7a36434ed471",
   "metadata": {},
   "outputs": [],
   "source": []
  }
 ],
 "metadata": {
  "kernelspec": {
   "display_name": "Python 3 (ipykernel)",
   "language": "python",
   "name": "python3"
  },
  "language_info": {
   "codemirror_mode": {
    "name": "ipython",
    "version": 3
   },
   "file_extension": ".py",
   "mimetype": "text/x-python",
   "name": "python",
   "nbconvert_exporter": "python",
   "pygments_lexer": "ipython3",
   "version": "3.11.7"
  }
 },
 "nbformat": 4,
 "nbformat_minor": 5
}
