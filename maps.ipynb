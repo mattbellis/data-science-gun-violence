{
 "cells": [
  {
   "cell_type": "code",
   "execution_count": null,
   "id": "4839fa38",
   "metadata": {},
   "outputs": [],
   "source": [
    "import pandas as pd\n",
    "import matplotlib.pyplot as plt\n",
    "\n",
    "import mpl_toolkits"
   ]
  },
  {
   "cell_type": "code",
   "execution_count": null,
   "id": "c2eb7a6e",
   "metadata": {},
   "outputs": [],
   "source": [
    "!pip install basemap\n",
    "!pip install folium"
   ]
  },
  {
   "cell_type": "code",
   "execution_count": null,
   "id": "f0ccbfd5",
   "metadata": {},
   "outputs": [],
   "source": [
    "import mpl_toolkits"
   ]
  },
  {
   "cell_type": "code",
   "execution_count": null,
   "id": "d806bf4d",
   "metadata": {},
   "outputs": [],
   "source": [
    "from mpl_toolkits.basemap import Basemap\n",
    "\n",
    "import folium\n"
   ]
  },
  {
   "cell_type": "code",
   "execution_count": null,
   "id": "f0cd72b3",
   "metadata": {},
   "outputs": [],
   "source": [
    "filename = 'datasets/our_dataframe.csv'\n",
    "\n",
    "df = pd.read_csv(filename)\n",
    "\n",
    "df"
   ]
  },
  {
   "cell_type": "code",
   "execution_count": null,
   "id": "ef6457b6-0367-4046-a96d-9ee0f453bff2",
   "metadata": {},
   "outputs": [],
   "source": [
    "import matplotlib.pyplot as plt\n",
    "from mpl_toolkits.basemap import Basemap\n",
    "\n",
    "# Create a Basemap instance\n",
    "mask = df['lon']>-360\n",
    "\n",
    "m = Basemap(\n",
    "    projection='merc',\n",
    "    llcrnrlat=df[mask]['lat'].min(),\n",
    "    urcrnrlat=df[mask]['lat'].max(),\n",
    "    llcrnrlon=df[mask]['lon'].min(),\n",
    "    urcrnrlon=df[mask]['lon'].max(),\n",
    "    resolution='i'\n",
    ")\n",
    "\n",
    "# Create a figure\n",
    "plt.figure(figsize=(8, 6))\n",
    "\n",
    "\n",
    "'''\n",
    "# Convert coordinates to map projection\n",
    "x, y = m(df[mask]['lon'].values, df[mask]['lat'].values)\n",
    "# Plot the data points on the map\n",
    "m.scatter(x, y, marker='o', color='blue', zorder=5)\n",
    "'''\n",
    "\n",
    "# Do in a loop\n",
    "dftmp = df[mask]\n",
    "for i in range(len(dftmp)):\n",
    "  # Convert coordinates to map projection\n",
    "  x, y = m(dftmp.iloc[i]['lon'], dftmp.iloc[i]['lat'])\n",
    "  #print(x,y)\n",
    "  # Plot the data points on the map\n",
    "  vkilled = float(dftmp.iloc[i]['Victims Killed'])\n",
    "  #print(vkilled)\n",
    "\n",
    "  color = 'blue'\n",
    "  if vkilled>0.0:\n",
    "    color='red'\n",
    "\n",
    "  m.scatter(x, y, marker='o', color=color, zorder=5)\n",
    "\n",
    "\n",
    "# Draw coastlines, borders, etc. (customize as needed)\n",
    "m.drawcoastlines()\n",
    "m.drawcountries()\n",
    "m.drawmapboundary(fill_color='aqua')\n",
    "m.drawstates()\n",
    "\n",
    "# Show the map\n",
    "plt.title(\"Map of Coordinates\")\n",
    "plt.show()"
   ]
  },
  {
   "cell_type": "code",
   "execution_count": null,
   "id": "395959c2-2535-4f3e-8908-702bc8d8c018",
   "metadata": {},
   "outputs": [],
   "source": [
    "import folium\n",
    "\n",
    "m = folium.Map(location=(45.5236, -122.6750))\n",
    "\n",
    "m"
   ]
  },
  {
   "cell_type": "code",
   "execution_count": null,
   "id": "67806fe2-8a41-4bb9-abf5-1b408a1cd865",
   "metadata": {},
   "outputs": [],
   "source": [
    "m = folium.Map(location=(35.1, -95.7), zoom_start=5)\n",
    "\n",
    "\n",
    "mask = df['lon']>-360\n",
    "\n",
    "\n",
    "# Do in a loop\n",
    "dftmp = df[mask]\n",
    "for i in range(len(dftmp)):\n",
    "  # Convert coordinates to map projection\n",
    "  x, y = dftmp.iloc[i]['lat'], dftmp.iloc[i]['lon']\n",
    "  #print(x,y)\n",
    "  # Plot the data points on the map\n",
    "  vkilled = float(dftmp.iloc[i]['Victims Killed'])\n",
    "  color = 'blue'\n",
    "  if vkilled>0:\n",
    "    color='red'\n",
    "  #print(vkilled)\n",
    "  print(x,y,vkilled)\n",
    "  folium.Marker(\n",
    "      location=[x,y],\n",
    "      tooltip=\"Click me!\",\n",
    "      popup=f\"# of victims = {vkilled}\",\n",
    "      icon=folium.Icon(icon=\"cloud\", color=color),\n",
    "  ).add_to(m)\n",
    "\n",
    "\n",
    "m\n"
   ]
  },
  {
   "cell_type": "code",
   "execution_count": null,
   "id": "e2e01069-d08d-4f85-84ff-c45c34ff715c",
   "metadata": {},
   "outputs": [],
   "source": [
    "incidents_by_state = df.groupby('State')['Incident ID'].count()\n",
    "injuries_by_state = df.groupby('State')['Victims Injured'].sum()\n",
    "fatalities_by_state = df.groupby('State')['Victims Killed'].sum()\n",
    "print(\"Number of incidents in each state:\")\n",
    "print(incidents_by_state)\n",
    "\n",
    "print(\"Number of injuries in each state:\")\n",
    "print(injuries_by_state)\n",
    "\n",
    "print(\"Number of fatalities in each state:\")\n",
    "print(fatalities_by_state)"
   ]
  },
  {
   "cell_type": "code",
   "execution_count": null,
   "id": "c7b2ad5e-6430-4fe1-b2bc-41cc99c7077d",
   "metadata": {},
   "outputs": [],
   "source": []
  },
  {
   "cell_type": "code",
   "execution_count": null,
   "id": "2343d72a-8b0d-4adc-8204-84dc290c6aaf",
   "metadata": {},
   "outputs": [],
   "source": []
  },
  {
   "cell_type": "code",
   "execution_count": null,
   "id": "db28dd8b-0f76-446d-a51c-452a13743d35",
   "metadata": {},
   "outputs": [],
   "source": []
  }
 ],
 "metadata": {
  "kernelspec": {
   "display_name": "Python 3 (ipykernel)",
   "language": "python",
   "name": "python3"
  },
  "language_info": {
   "codemirror_mode": {
    "name": "ipython",
    "version": 3
   },
   "file_extension": ".py",
   "mimetype": "text/x-python",
   "name": "python",
   "nbconvert_exporter": "python",
   "pygments_lexer": "ipython3",
   "version": "3.9.13"
  }
 },
 "nbformat": 4,
 "nbformat_minor": 5
}
