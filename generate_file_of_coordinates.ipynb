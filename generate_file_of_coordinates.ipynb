{
 "cells": [
  {
   "cell_type": "code",
   "execution_count": 1,
   "id": "62a37414",
   "metadata": {},
   "outputs": [],
   "source": [
    "import pandas as pd"
   ]
  },
  {
   "cell_type": "code",
   "execution_count": null,
   "id": "347acac3",
   "metadata": {},
   "outputs": [],
   "source": [
    "!pip install geopy"
   ]
  },
  {
   "cell_type": "code",
   "execution_count": null,
   "id": "d3a02ca2",
   "metadata": {},
   "outputs": [],
   "source": [
    "from geopy.geocoders import Nominatim"
   ]
  },
  {
   "cell_type": "code",
   "execution_count": null,
   "id": "3ddad511",
   "metadata": {},
   "outputs": [],
   "source": [
    "geolocater = Nominatim(user_agent = \"city_geolocater\")"
   ]
  },
  {
   "cell_type": "code",
   "execution_count": null,
   "id": "985c79de-27cc-4aa7-9fb2-56e72ca7a21e",
   "metadata": {},
   "outputs": [],
   "source": [
    "def get_lat_long(city):\n",
    "  location = geolocater.geocode(city)\n",
    "  if location:\n",
    "    return location.latitude,location.longitude\n",
    "  else:\n",
    "    return None, None"
   ]
  },
  {
   "cell_type": "code",
   "execution_count": null,
   "id": "4740b9a9-50d1-4fc1-92d9-8ae68c94a4ee",
   "metadata": {},
   "outputs": [],
   "source": [
    "lat,lon = get_lat_long('Troy, NY')\n",
    "\n",
    "print(lat,lon)"
   ]
  },
  {
   "cell_type": "code",
   "execution_count": null,
   "id": "a6504a86-0357-4f0b-a4d1-59c04cd13614",
   "metadata": {},
   "outputs": [],
   "source": [
    "filename = 'gun_violence_data.csv'\n",
    "\n",
    "# Bellis\n",
    "#filename = 'gun_violence_school_shootings.csv'\n",
    "\n",
    "df = pd.read_csv(filename)\n",
    "\n",
    "df"
   ]
  },
  {
   "cell_type": "code",
   "execution_count": null,
   "id": "743fff04-60d9-40bc-8951-575d507be2a8",
   "metadata": {},
   "outputs": [],
   "source": [
    "import numpy as np\n",
    "def get_lat_long(entry):\n",
    "    geolocator = Nominatim(user_agent=\"your_app_name\", timeout=10)  # Set a higher timeout value\n",
    "\n",
    "    try:\n",
    "        location = geolocator.geocode(entry)\n",
    "        if location:\n",
    "            return location.latitude, location.longitude\n",
    "        else:\n",
    "            return np.nan, np.nan\n",
    "    except Exception as e:\n",
    "        print(f\"Error: {e}\")\n",
    "        return np.nan, np.nan\n",
    "\n",
    "# Your existing code for retrieving latitudes and longitudes\n",
    "nentries = 2000\n",
    "\n",
    "lats = -999 * np.ones(nentries, dtype=float)\n",
    "lons = -999 * np.ones(nentries, dtype=float)\n",
    "\n",
    "for i in range(nentries):\n",
    "    state = df.iloc[i]['State']\n",
    "    city = df.iloc[i]['City Or County']\n",
    "    entry = f\"{city}, {state}\"\n",
    "\n",
    "    lat, lon = get_lat_long(entry)\n",
    "    print(i, lat, lon)\n",
    "\n",
    "    lats[i] = lat\n",
    "    lons[i] = lon"
   ]
  },
  {
   "cell_type": "code",
   "execution_count": null,
   "id": "c399f125-78f6-433a-861f-de951d031687",
   "metadata": {},
   "outputs": [],
   "source": [
    "print(len(lats))\n",
    "print(len(lons))\n",
    "print(len(df))\n",
    "\n",
    "df['lat'] = lats\n",
    "df['lon'] = lons"
   ]
  },
  {
   "cell_type": "code",
   "execution_count": null,
   "id": "fd885f43-747f-41ef-bb98-5cba45ff615a",
   "metadata": {},
   "outputs": [],
   "source": [
    "import matplotlib.pylab as plt\n",
    "\n",
    "plt.figure(figsize=(12,6))\n",
    "plt.plot(lons,lats,'o', markersize=5)\n",
    "\n",
    "plt.xlim(-140, -60)\n",
    "plt.ylim(25,50)\n"
   ]
  },
  {
   "cell_type": "code",
   "execution_count": null,
   "id": "52e0f9e0-9533-4185-87cf-fb9df0084741",
   "metadata": {},
   "outputs": [],
   "source": []
  }
 ],
 "metadata": {
  "kernelspec": {
   "display_name": "Python 3 (ipykernel)",
   "language": "python",
   "name": "python3"
  },
  "language_info": {
   "codemirror_mode": {
    "name": "ipython",
    "version": 3
   },
   "file_extension": ".py",
   "mimetype": "text/x-python",
   "name": "python",
   "nbconvert_exporter": "python",
   "pygments_lexer": "ipython3",
   "version": "3.9.13"
  }
 },
 "nbformat": 4,
 "nbformat_minor": 5
}
