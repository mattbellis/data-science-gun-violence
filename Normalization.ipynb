{
 "cells": [
  {
   "cell_type": "code",
   "execution_count": null,
   "id": "06ee66e7-c969-4ee3-b3c2-aebaebd807be",
   "metadata": {},
   "outputs": [],
   "source": [
    "import pandas as pd\n",
    "import seaborn as sns\n",
    "\n"
   ]
  },
  {
   "cell_type": "code",
   "execution_count": null,
   "id": "5e51ed89",
   "metadata": {},
   "outputs": [],
   "source": [
    "filename = 'datasets/gun_violence_data.csv'\n",
    "\n",
    "df = pd.read_csv(filename)"
   ]
  },
  {
   "cell_type": "code",
   "execution_count": null,
   "id": "07f85daf-ac93-4c4c-8107-6380a3a9479b",
   "metadata": {},
   "outputs": [],
   "source": [
    "filename = 'datasets/population_dataset.csv'\n",
    "dfpop = pd.read_csv(filename)"
   ]
  },
  {
   "cell_type": "code",
   "execution_count": null,
   "id": "b5c90958-73d5-4bfc-80bd-995b3e55680f",
   "metadata": {},
   "outputs": [],
   "source": [
    "Population_by_state = dfpop.groupby('NAME')['POPESTIMATE2023'].sum()\n",
    "print(Population_by_state)"
   ]
  },
  {
   "cell_type": "code",
   "execution_count": null,
   "id": "0a232dda-c809-4a95-88a0-3414c0616008",
   "metadata": {},
   "outputs": [],
   "source": [
    "incidents_by_state = df.groupby('State')['Incident ID'].count()\n",
    "print(incidents_by_state)"
   ]
  },
  {
   "cell_type": "code",
   "execution_count": null,
   "id": "acc9b2da-3242-4b27-9ba4-ae607773b812",
   "metadata": {},
   "outputs": [],
   "source": [
    "normalized_incidents = (incidents_by_state / Population_by_state) * 100000\n",
    "print(normalized_incidents)"
   ]
  },
  {
   "cell_type": "code",
   "execution_count": null,
   "id": "5e67e30c-937a-43ee-8bef-ae629c8b8620",
   "metadata": {},
   "outputs": [],
   "source": [
    "normalized_cleaned = normalized_incidents.dropna()"
   ]
  },
  {
   "cell_type": "code",
   "execution_count": null,
   "id": "77900bb6-a063-43d1-9882-f7000558f9af",
   "metadata": {},
   "outputs": [],
   "source": [
    "import matplotlib.pyplot as plt\n",
    "\n",
    "plt.figure(figsize=(10, 6))  \n",
    "normalized_cleaned.plot(kind='bar', color='skyblue')  \n",
    "plt.title('Incidents per 100,000 People by State (2023)') \n",
    "plt.xlabel('State')\n",
    "plt.ylabel('Incidents per 100,000 People')  \n",
    "plt.xticks(rotation=90, ha='right')  \n",
    "plt.tight_layout()  \n",
    "plt.show()"
   ]
  },
  {
   "cell_type": "code",
   "execution_count": null,
   "id": "7c6e724f-6bba-4e2a-9ddc-e4f7d9581b65",
   "metadata": {},
   "outputs": [],
   "source": [
    "injuries_by_state = df.groupby('State')['Victims Injured'].sum()\n",
    "print(injuries_by_state)"
   ]
  },
  {
   "cell_type": "code",
   "execution_count": null,
   "id": "9dc5eed9-ae0f-4f73-88f2-89708d1076ba",
   "metadata": {},
   "outputs": [],
   "source": [
    "normalized_injuries = (injuries_by_state / Population_by_state) * 100000\n",
    "print(normalized_injuries)"
   ]
  },
  {
   "cell_type": "code",
   "execution_count": null,
   "id": "2c44d02e-6f96-468c-9c3c-7dd62f4a941d",
   "metadata": {},
   "outputs": [],
   "source": [
    "#normalized_cleaned_injuries = normalized_injuries.dropna()\n",
    "normalized_cleaned_injuries = normalized_injuries.fillna(-1)"
   ]
  },
  {
   "cell_type": "code",
   "execution_count": null,
   "id": "934a4b81-c646-4e75-b045-7d3ea10b6f17",
   "metadata": {},
   "outputs": [],
   "source": [
    "plt.figure(figsize=(10, 6))  \n",
    "normalized_cleaned_injuries.plot(kind='bar', color='skyblue')  \n",
    "plt.title('Injuries per 100,000 People by State (2023)') \n",
    "plt.xlabel('State')\n",
    "plt.ylabel('Injuries per 100,000 People')  \n",
    "plt.xticks(rotation=90, ha='right')  \n",
    "plt.tight_layout()  \n",
    "plt.show()"
   ]
  },
  {
   "cell_type": "code",
   "execution_count": null,
   "id": "902f4b37-b812-4192-b564-4ae147f8e7d7",
   "metadata": {},
   "outputs": [],
   "source": [
    "fatalities_by_state = df.groupby('State')['Victims Killed'].sum()\n",
    "print(fatalities_by_state)"
   ]
  },
  {
   "cell_type": "code",
   "execution_count": null,
   "id": "2d8f1d72-a49e-4270-8daf-6c70b10d8f6f",
   "metadata": {},
   "outputs": [],
   "source": [
    "normalized_fatalities = (fatalities_by_state / Population_by_state) * 100000\n",
    "print(normalized_fatalities)"
   ]
  },
  {
   "cell_type": "code",
   "execution_count": null,
   "id": "fb5c468f-e664-41ae-8927-26253557cab4",
   "metadata": {},
   "outputs": [],
   "source": [
    "#normalized_cleaned_fatalities = normalized_fatalities.dropna()\n",
    "normalized_cleaned_fatalities = normalized_fatalities.fillna(-1)"
   ]
  },
  {
   "cell_type": "code",
   "execution_count": null,
   "id": "df2029b1-6e3c-40e3-96b2-a8b2ac57eec3",
   "metadata": {},
   "outputs": [],
   "source": [
    "plt.figure(figsize=(10, 6))  \n",
    "normalized_cleaned_fatalities.plot(kind='bar', color='skyblue')  \n",
    "plt.title('Fatalities per 100,000 People by State (2023)') \n",
    "plt.xlabel('State')\n",
    "plt.ylabel('Fatalities per 100,000 People')  \n",
    "plt.xticks(rotation=90, ha='right')  \n",
    "plt.tight_layout()  \n",
    "plt.show()"
   ]
  },
  {
   "cell_type": "markdown",
   "id": "437166e2",
   "metadata": {},
   "source": [
    "# Using the gun laws"
   ]
  },
  {
   "cell_type": "code",
   "execution_count": null,
   "id": "86b6a83d",
   "metadata": {},
   "outputs": [],
   "source": [
    "dflaws = pd.read_csv('datasets/Gun Laws Own Data  - Sheet1.csv')\n",
    "\n",
    "dflaws"
   ]
  },
  {
   "cell_type": "code",
   "execution_count": null,
   "id": "0a27479e",
   "metadata": {},
   "outputs": [],
   "source": [
    "dflaws.iloc[1]"
   ]
  },
  {
   "cell_type": "code",
   "execution_count": null,
   "id": "8c126b2b",
   "metadata": {},
   "outputs": [],
   "source": [
    "# Bellis will work on this\n",
    "#sns.heatmap(data=dflaws.pivot('STATE', dflaws.columns))"
   ]
  },
  {
   "cell_type": "code",
   "execution_count": null,
   "id": "9050a00c",
   "metadata": {},
   "outputs": [],
   "source": [
    "dflaws"
   ]
  },
  {
   "cell_type": "code",
   "execution_count": null,
   "id": "f21a2d50",
   "metadata": {},
   "outputs": [],
   "source": [
    "normalized_cleaned_fatalities"
   ]
  },
  {
   "cell_type": "code",
   "execution_count": null,
   "id": "3242ae6a",
   "metadata": {},
   "outputs": [],
   "source": [
    "#dflaws['State']['South Dakota']"
   ]
  },
  {
   "cell_type": "code",
   "execution_count": null,
   "id": "dc605ecf",
   "metadata": {},
   "outputs": [],
   "source": [
    "normalized_cleaned_fatalities.index"
   ]
  },
  {
   "cell_type": "code",
   "execution_count": null,
   "id": "1289d1b9",
   "metadata": {},
   "outputs": [],
   "source": [
    "#dflaws['fatalities_per_100k'] = normalized_cleaned_fatalities.values\n",
    "#normalized_cleaned_fatalities.plot(kind='bar')\n",
    "#dflaws['fatalities_per_100k']\n",
    "nrows = len(dflaws) # Number of states\n",
    "\n",
    "dflaws['fatalities_per_100k'] = -1\n",
    "\n",
    "for i in range(nrows):\n",
    "    state1 = dflaws.iloc[i]['State']\n",
    "    if state1 in normalized_cleaned.index:\n",
    "        x = normalized_cleaned_fatalities[state1]\n",
    "        dflaws.loc[i,'fatalities_per_100k'] = x"
   ]
  },
  {
   "cell_type": "code",
   "execution_count": null,
   "id": "826924be",
   "metadata": {},
   "outputs": [],
   "source": [
    "dflaws[['State','fatalities_per_100k']]"
   ]
  },
  {
   "cell_type": "code",
   "execution_count": null,
   "id": "e001eadf",
   "metadata": {},
   "outputs": [],
   "source": [
    "dflaws.columns"
   ]
  },
  {
   "cell_type": "code",
   "execution_count": null,
   "id": "65441717",
   "metadata": {},
   "outputs": [],
   "source": [
    "#sns.barplot(dflaws.sort_values(by='fatalities_per_100k', ascending=False), x='State', y='fatalities_per_100k', hue='Open Carry')\n",
    "sns.barplot(dflaws.sort_values(by='fatalities_per_100k', ascending=False), x='State', y='fatalities_per_100k', hue='Mental Health Prohibitor')\n",
    "\n",
    "#plt.get_xticks(rotate=90)\n",
    "plt.xticks(rotation=90, ha='right')  \n",
    "\n",
    "plt.ylim(-0.04)\n",
    ";"
   ]
  },
  {
   "cell_type": "code",
   "execution_count": null,
   "id": "69645935",
   "metadata": {},
   "outputs": [],
   "source": [
    "filter = dflaws['State'] == 'Alabama'\n",
    "\n",
    "dflaws[filter]"
   ]
  }
 ],
 "metadata": {
  "kernelspec": {
   "display_name": "Python 3 (ipykernel)",
   "language": "python",
   "name": "python3"
  },
  "language_info": {
   "codemirror_mode": {
    "name": "ipython",
    "version": 3
   },
   "file_extension": ".py",
   "mimetype": "text/x-python",
   "name": "python",
   "nbconvert_exporter": "python",
   "pygments_lexer": "ipython3",
   "version": "3.11.5"
  }
 },
 "nbformat": 4,
 "nbformat_minor": 5
}
