{
 "cells": [
  {
   "cell_type": "code",
   "execution_count": null,
   "id": "e8a02344",
   "metadata": {},
   "outputs": [],
   "source": [
    "# Import all the modules we'll be using for this tutorial\n",
    "\n",
    "import numpy as np\n",
    "import matplotlib.pylab as plt\n",
    "\n",
    "# For manipulating and plotting the data\n",
    "import pandas as pd\n",
    "\n",
    "# For plotting the data a little prettier\n",
    "import seaborn as sns\n"
   ]
  },
  {
   "cell_type": "code",
   "execution_count": null,
   "id": "ace943ce",
   "metadata": {},
   "outputs": [],
   "source": [
    "filename = 'datasets/gun_violence_data.csv'\n",
    "\n",
    "# Bellis\n",
    "#filename = 'gun_violence_school_shootings.csv'\n",
    "\n",
    "df = pd.read_csv(filename)\n",
    "\n",
    "df"
   ]
  },
  {
   "cell_type": "code",
   "execution_count": null,
   "id": "94ad6ae5",
   "metadata": {},
   "outputs": [],
   "source": [
    "incidents_by_state = df.groupby('State')['Incident ID'].count()\n",
    "injuries_by_state = df.groupby('State')['Victims Injured'].sum()\n",
    "fatalities_by_state = df.groupby('State')['Victims Killed'].sum()\n",
    "print(\"Number of incidents in each state:\")\n",
    "print(incidents_by_state)\n",
    "\n",
    "print(\"Number of injuries in each state:\")\n",
    "print(injuries_by_state)\n",
    "\n",
    "print(\"Number of fatalities in each state:\")\n",
    "print(fatalities_by_state)"
   ]
  },
  {
   "cell_type": "code",
   "execution_count": null,
   "id": "40517a65",
   "metadata": {},
   "outputs": [],
   "source": [
    "incidents_by_state.sort_values(ascending=False)"
   ]
  },
  {
   "cell_type": "markdown",
   "id": "689006a9",
   "metadata": {},
   "source": [
    "# Population file"
   ]
  },
  {
   "cell_type": "code",
   "execution_count": null,
   "id": "e70aca96",
   "metadata": {},
   "outputs": [],
   "source": [
    "filename = 'datasets/population_dataset.csv'\n",
    "dfpop = pd.read_csv(filename)\n",
    "\n",
    "dfpop.sample(3)"
   ]
  },
  {
   "cell_type": "code",
   "execution_count": null,
   "id": "ac61a89a",
   "metadata": {},
   "outputs": [],
   "source": [
    "grouped = dfpop.groupby('REGION')\n",
    "\n",
    "grouped.groups.keys()\n",
    "\n",
    "grouped.get_group('1')['NAME']"
   ]
  },
  {
   "cell_type": "markdown",
   "id": "f5070b88",
   "metadata": {},
   "source": [
    "*Italics!*"
   ]
  },
  {
   "cell_type": "code",
   "execution_count": null,
   "id": "7330eeb9",
   "metadata": {},
   "outputs": [],
   "source": [
    "mask = dfpop['STATE'] > 0\n",
    "\n",
    "sns.relplot(dfpop[mask], x='NAME', y='POPESTIMATE2023', height=4, aspect=2)\n",
    "\n",
    "plt.xticks(rotation=90);\n"
   ]
  },
  {
   "cell_type": "code",
   "execution_count": null,
   "id": "4776d7df",
   "metadata": {},
   "outputs": [],
   "source": []
  },
  {
   "cell_type": "code",
   "execution_count": null,
   "id": "621b335c",
   "metadata": {},
   "outputs": [],
   "source": [
    "state = 'Alabama'\n",
    "x = incidents_by_state[state]\n",
    "y = dfpop[dfpop['NAME']==state]['POPESTIMATE2023'].values[0]\n",
    "print(x)\n",
    "print(y)"
   ]
  },
  {
   "cell_type": "code",
   "execution_count": null,
   "id": "242d8681",
   "metadata": {},
   "outputs": [],
   "source": [
    "y.values[0]"
   ]
  },
  {
   "cell_type": "markdown",
   "id": "f4d225cd",
   "metadata": {},
   "source": [
    "# Gun ownership laws"
   ]
  },
  {
   "cell_type": "code",
   "execution_count": null,
   "id": "5f953574",
   "metadata": {},
   "outputs": [],
   "source": [
    "filename = 'datasets/TL-354-State-Level Estimates of Household Firearm Ownership.xlsx'\n",
    "\n",
    "dfgo = pd.read_excel(filename, sheet_name='State-Level Data & Factor Score')\n",
    "\n",
    "dfgo"
   ]
  },
  {
   "cell_type": "code",
   "execution_count": null,
   "id": "e39d00bb",
   "metadata": {},
   "outputs": [],
   "source": [
    "dfgo['Year'].unique()"
   ]
  },
  {
   "cell_type": "code",
   "execution_count": null,
   "id": "29915f86",
   "metadata": {},
   "outputs": [],
   "source": []
  }
 ],
 "metadata": {
  "kernelspec": {
   "display_name": "Python 3 (ipykernel)",
   "language": "python",
   "name": "python3"
  },
  "language_info": {
   "codemirror_mode": {
    "name": "ipython",
    "version": 3
   },
   "file_extension": ".py",
   "mimetype": "text/x-python",
   "name": "python",
   "nbconvert_exporter": "python",
   "pygments_lexer": "ipython3",
   "version": "3.11.5"
  }
 },
 "nbformat": 4,
 "nbformat_minor": 5
}
