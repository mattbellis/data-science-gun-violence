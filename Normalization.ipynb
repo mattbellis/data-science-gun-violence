{
 "cells": [
  {
   "cell_type": "code",
   "execution_count": null,
   "id": "06ee66e7-c969-4ee3-b3c2-aebaebd807be",
   "metadata": {},
   "outputs": [],
   "source": [
    "import pandas as pd\n",
    "\n",
    "filename = 'datasets/gun_violence_data.csv'\n",
    "\n",
    "df = pd.read_csv(filename)"
   ]
  },
  {
   "cell_type": "code",
   "execution_count": null,
   "id": "07f85daf-ac93-4c4c-8107-6380a3a9479b",
   "metadata": {},
   "outputs": [],
   "source": [
    "filename = 'datasets/population_dataset.csv'\n",
    "dfpop = pd.read_csv(filename)"
   ]
  },
  {
   "cell_type": "code",
   "execution_count": null,
   "id": "b5c90958-73d5-4bfc-80bd-995b3e55680f",
   "metadata": {},
   "outputs": [],
   "source": [
    "Population_by_state = dfpop.groupby('NAME')['POPESTIMATE2023'].sum()\n",
    "print(Population_by_state)"
   ]
  },
  {
   "cell_type": "code",
   "execution_count": null,
   "id": "0a232dda-c809-4a95-88a0-3414c0616008",
   "metadata": {},
   "outputs": [],
   "source": [
    "incidents_by_state = df.groupby('State')['Incident ID'].count()\n",
    "print(incidents_by_state)"
   ]
  },
  {
   "cell_type": "code",
   "execution_count": null,
   "id": "acc9b2da-3242-4b27-9ba4-ae607773b812",
   "metadata": {},
   "outputs": [],
   "source": [
    "normalized_incidents = (incidents_by_state / Population_by_state) * 100000\n",
    "print(normalized_incidents)"
   ]
  },
  {
   "cell_type": "code",
   "execution_count": null,
   "id": "5e67e30c-937a-43ee-8bef-ae629c8b8620",
   "metadata": {},
   "outputs": [],
   "source": [
    "normalized_cleaned = normalized_incidents.dropna()"
   ]
  },
  {
   "cell_type": "code",
   "execution_count": null,
   "id": "77900bb6-a063-43d1-9882-f7000558f9af",
   "metadata": {},
   "outputs": [],
   "source": [
    "import matplotlib.pyplot as plt\n",
    "\n",
    "plt.figure(figsize=(10, 6))  \n",
    "normalized_cleaned.plot(kind='bar', color='skyblue')  \n",
    "plt.title('Incidents per 100,000 People by State (2023)') \n",
    "plt.xlabel('State')\n",
    "plt.ylabel('Incidents per 100,000 People')  \n",
    "plt.xticks(rotation=90, ha='right')  \n",
    "plt.tight_layout()  \n",
    "plt.show()"
   ]
  },
  {
   "cell_type": "code",
   "execution_count": null,
   "id": "7c6e724f-6bba-4e2a-9ddc-e4f7d9581b65",
   "metadata": {},
   "outputs": [],
   "source": [
    "injuries_by_state = df.groupby('State')['Victims Injured'].sum()\n",
    "print(injuries_by_state)"
   ]
  },
  {
   "cell_type": "code",
   "execution_count": null,
   "id": "9dc5eed9-ae0f-4f73-88f2-89708d1076ba",
   "metadata": {},
   "outputs": [],
   "source": [
    "normalized_injuries = (injuries_by_state / Population_by_state) * 100000\n",
    "print(normalized_injuries)"
   ]
  },
  {
   "cell_type": "code",
   "execution_count": null,
   "id": "2c44d02e-6f96-468c-9c3c-7dd62f4a941d",
   "metadata": {},
   "outputs": [],
   "source": [
    "normalized_cleaned_injuries = normalized_injuries.dropna()"
   ]
  },
  {
   "cell_type": "code",
   "execution_count": null,
   "id": "934a4b81-c646-4e75-b045-7d3ea10b6f17",
   "metadata": {},
   "outputs": [],
   "source": [
    "plt.figure(figsize=(10, 6))  \n",
    "normalized_cleaned_injuries.plot(kind='bar', color='skyblue')  \n",
    "plt.title('Injuries per 100,000 People by State (2023)') \n",
    "plt.xlabel('State')\n",
    "plt.ylabel('Injuries per 100,000 People')  \n",
    "plt.xticks(rotation=90, ha='right')  \n",
    "plt.tight_layout()  \n",
    "plt.show()"
   ]
  },
  {
   "cell_type": "code",
   "execution_count": null,
   "id": "902f4b37-b812-4192-b564-4ae147f8e7d7",
   "metadata": {},
   "outputs": [],
   "source": [
    "fatalities_by_state = df.groupby('State')['Victims Killed'].sum()\n",
    "print(fatalities_by_state)"
   ]
  },
  {
   "cell_type": "code",
   "execution_count": null,
   "id": "2d8f1d72-a49e-4270-8daf-6c70b10d8f6f",
   "metadata": {},
   "outputs": [],
   "source": [
    "normalized_fatalities = (fatalities_by_state / Population_by_state) * 100000\n",
    "print(normalized_fatalities)"
   ]
  },
  {
   "cell_type": "code",
   "execution_count": null,
   "id": "fb5c468f-e664-41ae-8927-26253557cab4",
   "metadata": {},
   "outputs": [],
   "source": [
    "normalized_cleaned_fatalities = normalized_fatalities.dropna()"
   ]
  },
  {
   "cell_type": "code",
   "execution_count": null,
   "id": "df2029b1-6e3c-40e3-96b2-a8b2ac57eec3",
   "metadata": {},
   "outputs": [],
   "source": [
    "plt.figure(figsize=(10, 6))  \n",
    "normalized_cleaned_fatalities.plot(kind='bar', color='skyblue')  \n",
    "plt.title('Fatalities per 100,000 People by State (2023)') \n",
    "plt.xlabel('State')\n",
    "plt.ylabel('Fatalities per 100,000 People')  \n",
    "plt.xticks(rotation=90, ha='right')  \n",
    "plt.tight_layout()  \n",
    "plt.show()"
   ]
  },
  {
   "cell_type": "code",
   "execution_count": null,
   "id": "254bd39c-9a1d-47ae-bf62-a35e9303632d",
   "metadata": {},
   "outputs": [],
   "source": []
  }
 ],
 "metadata": {
  "kernelspec": {
   "display_name": "Python 3 (ipykernel)",
   "language": "python",
   "name": "python3"
  },
  "language_info": {
   "codemirror_mode": {
    "name": "ipython",
    "version": 3
   },
   "file_extension": ".py",
   "mimetype": "text/x-python",
   "name": "python",
   "nbconvert_exporter": "python",
   "pygments_lexer": "ipython3",
   "version": "3.9.13"
  }
 },
 "nbformat": 4,
 "nbformat_minor": 5
}
