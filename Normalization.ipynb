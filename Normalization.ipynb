{
 "cells": [
  {
   "cell_type": "code",
   "execution_count": null,
   "id": "06ee66e7-c969-4ee3-b3c2-aebaebd807be",
   "metadata": {},
   "outputs": [],
   "source": [
    "import pandas as pd\n",
    "import seaborn as sns\n",
    "\n",
    "import matplotlib.pyplot as plt\n"
   ]
  },
  {
   "cell_type": "code",
   "execution_count": null,
   "id": "5e51ed89",
   "metadata": {},
   "outputs": [],
   "source": [
    "filename = 'datasets/gun_violence_data.csv'\n",
    "\n",
    "df = pd.read_csv(filename)"
   ]
  },
  {
   "cell_type": "code",
   "execution_count": null,
   "id": "07f85daf-ac93-4c4c-8107-6380a3a9479b",
   "metadata": {},
   "outputs": [],
   "source": [
    "filename = 'datasets/population_dataset.csv'\n",
    "dfpop = pd.read_csv(filename)\n",
    "dfpop"
   ]
  },
  {
   "cell_type": "code",
   "execution_count": null,
   "id": "22939c09-cdd5-49c7-b4ee-e919ba63d722",
   "metadata": {},
   "outputs": [],
   "source": [
    "names_to_exclude = ['United States', 'Northeast Region', 'New England', 'Middle Atlantic','Midwest Region', 'East North Central','West North Central','South Region','South Atlantic','East South Central','West South Central','West Region','Mountain', 'Pacific','Puerto Rico']\n",
    "\n",
    "filtered_dfpop = dfpop[~dfpop['NAME'].isin(names_to_exclude)]\n",
    "\n",
    "Population_by_state = filtered_dfpop.groupby('NAME')['POPESTIMATE2023'].sum()\n",
    "\n",
    "print(Population_by_state)"
   ]
  },
  {
   "cell_type": "code",
   "execution_count": null,
   "id": "b5c90958-73d5-4bfc-80bd-995b3e55680f",
   "metadata": {},
   "outputs": [],
   "source": [
    "Population_by_state = dfpop.groupby('NAME')['POPESTIMATE2023'].sum()\n",
    "print(Population_by_state)"
   ]
  },
  {
   "cell_type": "code",
   "execution_count": null,
   "id": "175cbf14-193f-4179-85f0-f9278632b502",
   "metadata": {},
   "outputs": [],
   "source": [
    "plt.figure(figsize=(10, 6))\n",
    "Population_by_state.plot(kind='bar', color='skyblue')\n",
    "plt.title('Population by State')\n",
    "plt.xlabel('State')\n",
    "plt.ylabel('Population')\n",
    "plt.xticks(rotation=90, ha='center')\n",
    "plt.tight_layout()\n",
    "plt.show()"
   ]
  },
  {
   "cell_type": "code",
   "execution_count": null,
   "id": "7227a5d6-0d04-4be1-8596-52a11353a1e6",
   "metadata": {},
   "outputs": [],
   "source": [
    "plt.figure(figsize=(10, 6))\n",
    "Population_by_state.sort_values(ascending=False).plot(kind='bar', color='skyblue')\n",
    "plt.title('Population by State')\n",
    "plt.xlabel('State')\n",
    "plt.ylabel('Population')\n",
    "plt.xticks(rotation=90, ha='center')\n",
    "plt.tight_layout()\n",
    "plt.show()"
   ]
  },
  {
   "cell_type": "code",
   "execution_count": null,
   "id": "0a232dda-c809-4a95-88a0-3414c0616008",
   "metadata": {},
   "outputs": [],
   "source": [
    "incidents_by_state = df.groupby('State')['Incident ID'].count()\n",
    "print(incidents_by_state)"
   ]
  },
  {
   "cell_type": "code",
   "execution_count": null,
   "id": "acc9b2da-3242-4b27-9ba4-ae607773b812",
   "metadata": {},
   "outputs": [],
   "source": [
    "normalized_incidents = (incidents_by_state / Population_by_state) * 100000\n",
    "print(normalized_incidents)"
   ]
  },
  {
   "cell_type": "code",
   "execution_count": null,
   "id": "5e67e30c-937a-43ee-8bef-ae629c8b8620",
   "metadata": {},
   "outputs": [],
   "source": [
    "#normalized_cleaned = normalized_incidents.dropna()\n",
    "#normalized_cleaned"
   ]
  },
  {
   "cell_type": "code",
   "execution_count": null,
   "id": "406df198-fe17-409d-85a8-4b951bc7cffd",
   "metadata": {},
   "outputs": [],
   "source": [
    "#normalized_cleaned = normalized_cleaned.sort_index()\n",
    "plt.figure(figsize=(10, 6))  \n",
    "normalized_incidents.plot(kind='bar', color='skyblue')  \n",
    "plt.title('Incidents per 100,000 People by State (2023)') \n",
    "plt.xlabel('State')\n",
    "plt.ylabel('Incidents per 100,000 People')  \n",
    "plt.xticks(rotation=90, ha='center')  \n",
    "plt.tight_layout()  \n",
    "plt.show()"
   ]
  },
  {
   "cell_type": "code",
   "execution_count": null,
   "id": "77900bb6-a063-43d1-9882-f7000558f9af",
   "metadata": {},
   "outputs": [],
   "source": [
    "plt.figure(figsize=(10, 6))  \n",
    "normalized_incidents.sort_values(ascending=False).plot(kind='bar', color='skyblue')  \n",
    "plt.title('Incidents per 100,000 People by State (2023)') \n",
    "plt.xlabel('State')\n",
    "plt.ylabel('Incidents per 100,000 People')  \n",
    "plt.xticks(rotation=90, ha='center')  \n",
    "plt.tight_layout()  \n",
    "plt.show()"
   ]
  },
  {
   "cell_type": "code",
   "execution_count": null,
   "id": "7c6e724f-6bba-4e2a-9ddc-e4f7d9581b65",
   "metadata": {},
   "outputs": [],
   "source": [
    "injuries_by_state = df.groupby('State')['Victims Injured'].sum()\n",
    "print(injuries_by_state)"
   ]
  },
  {
   "cell_type": "code",
   "execution_count": null,
   "id": "9dc5eed9-ae0f-4f73-88f2-89708d1076ba",
   "metadata": {},
   "outputs": [],
   "source": [
    "normalized_injuries = (injuries_by_state / Population_by_state) * 100000\n",
    "print(normalized_injuries)"
   ]
  },
  {
   "cell_type": "code",
   "execution_count": null,
   "id": "2c44d02e-6f96-468c-9c3c-7dd62f4a941d",
   "metadata": {},
   "outputs": [],
   "source": [
    "#normalized_cleaned_injuries = normalized_injuries.dropna()\n",
    "#normalized_cleaned_injuries = normalized_injuries.fillna(-1)\n"
   ]
  },
  {
   "cell_type": "code",
   "execution_count": null,
   "id": "934a4b81-c646-4e75-b045-7d3ea10b6f17",
   "metadata": {},
   "outputs": [],
   "source": [
    "plt.figure(figsize=(10, 6))  \n",
    "normalized_injuries.plot(kind='bar', color='skyblue')  \n",
    "plt.title('Injuries per 100,000 People by State (2023)') \n",
    "plt.xlabel('State')\n",
    "plt.ylabel('Injuries per 100,000 People')  \n",
    "plt.xticks(rotation=90, ha='center')  \n",
    "plt.ylim(0.0,0.4)\n",
    "plt.tight_layout()  \n",
    "plt.show()"
   ]
  },
  {
   "cell_type": "code",
   "execution_count": null,
   "id": "cfa2eea4-abee-40b4-aba6-c110b6e9e835",
   "metadata": {},
   "outputs": [],
   "source": [
    "plt.figure(figsize=(10, 6))  \n",
    "normalized_injuries.sort_values(ascending=False).plot(kind='bar', color='skyblue')  \n",
    "plt.title('Injuries per 100,000 People by State (2023)') \n",
    "plt.xlabel('State')\n",
    "plt.ylabel('Injuries per 100,000 People')  \n",
    "plt.xticks(rotation=90, ha='center')  \n",
    "plt.ylim(0.0,0.4)\n",
    "plt.tight_layout()  \n",
    "plt.show()"
   ]
  },
  {
   "cell_type": "code",
   "execution_count": null,
   "id": "902f4b37-b812-4192-b564-4ae147f8e7d7",
   "metadata": {},
   "outputs": [],
   "source": [
    "fatalities_by_state = df.groupby('State')['Victims Killed'].sum()\n",
    "print(fatalities_by_state)"
   ]
  },
  {
   "cell_type": "code",
   "execution_count": null,
   "id": "2d8f1d72-a49e-4270-8daf-6c70b10d8f6f",
   "metadata": {},
   "outputs": [],
   "source": [
    "normalized_fatalities = (fatalities_by_state / Population_by_state) * 100000\n",
    "print(normalized_fatalities)"
   ]
  },
  {
   "cell_type": "code",
   "execution_count": null,
   "id": "fb5c468f-e664-41ae-8927-26253557cab4",
   "metadata": {},
   "outputs": [],
   "source": [
    "#normalized_cleaned_fatalities = normalized_fatalities.dropna()\n",
    "#normalized_cleaned_fatalities = normalized_fatalities.fillna(-1)"
   ]
  },
  {
   "cell_type": "code",
   "execution_count": null,
   "id": "c7e50b02-bf41-4522-b265-db5811f721c4",
   "metadata": {},
   "outputs": [],
   "source": [
    "plt.figure(figsize=(10, 6))  \n",
    "normalized_fatalities.plot(kind='bar', color='skyblue')  \n",
    "plt.title('Fatalities per 100,000 People by State (2023)') \n",
    "plt.xlabel('State')\n",
    "plt.ylabel('Fatalities per 100,000 People')  \n",
    "plt.xticks(rotation=90, ha='center')  \n",
    "plt.ylim(0.0,0.4)\n",
    "plt.tight_layout()  \n",
    "plt.show()"
   ]
  },
  {
   "cell_type": "code",
   "execution_count": null,
   "id": "df2029b1-6e3c-40e3-96b2-a8b2ac57eec3",
   "metadata": {},
   "outputs": [],
   "source": [
    "plt.figure(figsize=(10, 6))  \n",
    "normalized_fatalities.sort_values(ascending=False).plot(kind='bar', color='skyblue')  \n",
    "plt.title('Fatalities per 100,000 People by State (2023)') \n",
    "plt.xlabel('State')\n",
    "plt.ylabel('Fatalities per 100,000 People')  \n",
    "plt.xticks(rotation=90, ha='center')  \n",
    "plt.ylim(0.0,0.4)\n",
    "plt.tight_layout()  \n",
    "plt.show()"
   ]
  },
  {
   "cell_type": "markdown",
   "id": "437166e2",
   "metadata": {},
   "source": [
    "# Using the gun laws"
   ]
  },
  {
   "cell_type": "code",
   "execution_count": null,
   "id": "86b6a83d",
   "metadata": {},
   "outputs": [],
   "source": [
    "dflaws = pd.read_csv('datasets/Gun Laws Own Data  - Sheet1 (1).csv')\n",
    "\n",
    "dflaws"
   ]
  },
  {
   "cell_type": "code",
   "execution_count": null,
   "id": "0a27479e",
   "metadata": {},
   "outputs": [],
   "source": [
    "dflaws.iloc[1]"
   ]
  },
  {
   "cell_type": "code",
   "execution_count": null,
   "id": "7c743c3d-be1f-494d-8a6a-45414ab7cb92",
   "metadata": {},
   "outputs": [],
   "source": [
    "# Load the data into a Pandas DataFrame\n",
    "flights = sns.load_dataset(\"flights\")\n",
    "\n",
    "#print(flights)\n",
    "\n",
    "# Create a pivot table to reshape the data into a matrix\n",
    "flights_matrix = flights.pivot_table(index=\"month\", columns=\"year\", values=\"passengers\")\n",
    "\n",
    "#print(type(flights_matrix))\n",
    "print(flights_matrix)\n",
    "\n",
    "\n",
    "# Create the heatmap\n",
    "sns.heatmap(flights_matrix, cmap=\"YlGnBu\", annot=True, fmt=\"0.0f\")\n",
    "\n",
    "\n",
    ";\n"
   ]
  },
  {
   "cell_type": "code",
   "execution_count": null,
   "id": "72edd033-b209-4701-b873-2d306d7676a0",
   "metadata": {},
   "outputs": [],
   "source": [
    "flights_matrix.index"
   ]
  },
  {
   "cell_type": "code",
   "execution_count": null,
   "id": "56f36fa5-d821-4022-904c-3e53a32ad625",
   "metadata": {},
   "outputs": [],
   "source": [
    "#dflaws"
   ]
  },
  {
   "cell_type": "code",
   "execution_count": null,
   "id": "7c9839cd-1350-4fda-870c-41d31b95b022",
   "metadata": {},
   "outputs": [],
   "source": [
    "dftmp = dflaws.copy()\n",
    "\n",
    "dftmp.index = dftmp['State']\n",
    "dftmp.sort_values('Ranking', inplace=True)\n",
    "\n",
    "dftmp.drop(['State','Ranking'], axis=1, inplace=True)\n",
    "\n",
    "dftmp"
   ]
  },
  {
   "cell_type": "code",
   "execution_count": null,
   "id": "8c126b2b",
   "metadata": {},
   "outputs": [],
   "source": [
    "# Bellis will work on this\n",
    "sns.heatmap(data=dftmp)"
   ]
  },
  {
   "cell_type": "code",
   "execution_count": null,
   "id": "9050a00c",
   "metadata": {},
   "outputs": [],
   "source": [
    "dflaws"
   ]
  },
  {
   "cell_type": "code",
   "execution_count": null,
   "id": "f21a2d50",
   "metadata": {},
   "outputs": [],
   "source": [
    "normalized_cleaned_fatalities"
   ]
  },
  {
   "cell_type": "code",
   "execution_count": null,
   "id": "3242ae6a",
   "metadata": {},
   "outputs": [],
   "source": [
    "#dflaws['State']['South Dakota']"
   ]
  },
  {
   "cell_type": "code",
   "execution_count": null,
   "id": "dc605ecf",
   "metadata": {},
   "outputs": [],
   "source": [
    "normalized_cleaned_fatalities.index"
   ]
  },
  {
   "cell_type": "code",
   "execution_count": null,
   "id": "1289d1b9",
   "metadata": {},
   "outputs": [],
   "source": [
    "#dflaws['fatalities_per_100k'] = normalized_cleaned_fatalities.values\n",
    "#normalized_cleaned_fatalities.plot(kind='bar')\n",
    "#dflaws['fatalities_per_100k']\n",
    "nrows = len(dflaws) # Number of states\n",
    "\n",
    "dflaws['fatalities_per_100k'] = -1\n",
    "dflaws['incidents_per_100k'] = -1\n",
    "\n",
    "#Fatalities\n",
    "for i in range(nrows):\n",
    "    state1 = dflaws.iloc[i]['State']\n",
    "    if state1 in normalized_cleaned_fatalities.index:\n",
    "        x = normalized_cleaned_fatalities[state1]\n",
    "        dflaws.loc[i,'fatalities_per_100k'] = x\n",
    "\n",
    "# Incidents\n",
    "for i in range(nrows):\n",
    "    state1 = dflaws.iloc[i]['State']\n",
    "    if state1 in normalized_cleaned.index:\n",
    "        x = normalized_cleaned[state1]\n",
    "        dflaws.loc[i,'incidents_per_100k'] = x"
   ]
  },
  {
   "cell_type": "code",
   "execution_count": null,
   "id": "826924be",
   "metadata": {},
   "outputs": [],
   "source": [
    "dflaws[['State','fatalities_per_100k', 'incidents_per_100k']]"
   ]
  },
  {
   "cell_type": "code",
   "execution_count": null,
   "id": "e001eadf",
   "metadata": {},
   "outputs": [],
   "source": [
    "dflaws.columns"
   ]
  },
  {
   "cell_type": "code",
   "execution_count": null,
   "id": "0e7d8426-21b5-46de-8eef-f1acd68e92a4",
   "metadata": {},
   "outputs": [],
   "source": [
    "plt.figure(figsize=(12,10))\n",
    "\n",
    "hue_value = 'Background Checks'\n",
    "\n",
    "plt.subplot(2,1,1)\n",
    "sns.barplot(data=dflaws.sort_values(by='incidents_per_100k', ascending=False), x='State', y='incidents_per_100k', hue=hue_value)\n",
    "plt.xticks(rotation=90, ha='center')  \n",
    "plt.ylim(0.00)\n",
    "\n",
    "plt.subplot(2,1,2)\n",
    "sns.barplot(data=dflaws.sort_values(by='fatalities_per_100k', ascending=False), x='State', y='fatalities_per_100k', hue=hue_value)\n",
    "plt.xticks(rotation=90, ha='center')  \n",
    "plt.ylim(0.00)\n",
    "\n",
    "plt.tight_layout()\n",
    "plt.show()"
   ]
  },
  {
   "cell_type": "code",
   "execution_count": null,
   "id": "1c02d1bd-ddaf-4d63-839b-43c350ef206f",
   "metadata": {},
   "outputs": [],
   "source": [
    "plt.figure(figsize=(12,10))\n",
    "\n",
    "hue_value = 'Concealed Carry Permit'\n",
    "\n",
    "plt.subplot(2,1,1)\n",
    "sns.barplot(data=dflaws.sort_values(by='incidents_per_100k', ascending=False), x='State', y='incidents_per_100k', hue=hue_value)\n",
    "plt.xticks(rotation=90, ha='center')  \n",
    "plt.ylim(0.00)\n",
    "\n",
    "plt.subplot(2,1,2)\n",
    "sns.barplot(data=dflaws.sort_values(by='fatalities_per_100k', ascending=False), x='State', y='fatalities_per_100k', hue=hue_value)\n",
    "plt.xticks(rotation=90, ha='center')  \n",
    "plt.ylim(0.00)\n",
    "\n",
    "plt.tight_layout()\n",
    "plt.show()"
   ]
  },
  {
   "cell_type": "code",
   "execution_count": null,
   "id": "d43f6b96-018f-4f6f-a171-ab9351cd5bdb",
   "metadata": {},
   "outputs": [],
   "source": [
    "plt.figure(figsize=(12,10))\n",
    "\n",
    "hue_value = 'Extreme Risk Law'\n",
    "\n",
    "plt.subplot(2,1,1)\n",
    "sns.barplot(data=dflaws.sort_values(by='incidents_per_100k', ascending=False), x='State', y='incidents_per_100k', hue=hue_value)\n",
    "plt.xticks(rotation=90, ha='center')  \n",
    "plt.ylim(0.00)\n",
    "\n",
    "plt.subplot(2,1,2)\n",
    "sns.barplot(data=dflaws.sort_values(by='fatalities_per_100k', ascending=False), x='State', y='fatalities_per_100k', hue=hue_value)\n",
    "plt.xticks(rotation=90, ha='center')  \n",
    "plt.ylim(0.00)\n",
    "\n",
    "plt.tight_layout()\n",
    "plt.show()"
   ]
  },
  {
   "cell_type": "code",
   "execution_count": null,
   "id": "95a02a5f-807d-42a1-b602-4f748bf6893c",
   "metadata": {},
   "outputs": [],
   "source": [
    "plt.figure(figsize=(12,10))\n",
    "\n",
    "hue_value = 'Shoot First law'\n",
    "\n",
    "plt.subplot(2,1,1)\n",
    "sns.barplot(data=dflaws.sort_values(by='incidents_per_100k', ascending=False), x='State', y='incidents_per_100k', hue=hue_value)\n",
    "plt.xticks(rotation=90, ha='center')  \n",
    "plt.ylim(0.00)\n",
    "\n",
    "plt.subplot(2,1,2)\n",
    "sns.barplot(data=dflaws.sort_values(by='fatalities_per_100k', ascending=False), x='State', y='fatalities_per_100k', hue=hue_value)\n",
    "plt.xticks(rotation=90, ha='center')  \n",
    "plt.ylim(0.00)\n",
    "\n",
    "plt.tight_layout()\n",
    "plt.show()"
   ]
  },
  {
   "cell_type": "code",
   "execution_count": null,
   "id": "2cbe8944-e7e3-4dfd-8e34-1fd1aaf84b8e",
   "metadata": {},
   "outputs": [],
   "source": [
    "plt.figure(figsize=(12,10))\n",
    "\n",
    "hue_value = 'Secure Storage'\n",
    "\n",
    "plt.subplot(2,1,1)\n",
    "sns.barplot(data=dflaws.sort_values(by='incidents_per_100k', ascending=False), x='State', y='incidents_per_100k', hue=hue_value)\n",
    "plt.xticks(rotation=90, ha='center')  \n",
    "plt.ylim(0.00)\n",
    "\n",
    "plt.subplot(2,1,2)\n",
    "sns.barplot(data=dflaws.sort_values(by='fatalities_per_100k', ascending=False), x='State', y='fatalities_per_100k', hue=hue_value)\n",
    "plt.xticks(rotation=90, ha='center')  \n",
    "plt.ylim(0.00)\n",
    "\n",
    "plt.tight_layout()\n",
    "plt.show()"
   ]
  },
  {
   "cell_type": "code",
   "execution_count": null,
   "id": "dd7727bc-83a0-4ed9-b95d-89a1c0bd6ff8",
   "metadata": {},
   "outputs": [],
   "source": [
    "plt.figure(figsize=(12,10))\n",
    "\n",
    "hue_value = 'Carry After Violent Offense'\n",
    "\n",
    "plt.subplot(2,1,1)\n",
    "sns.barplot(data=dflaws.sort_values(by='incidents_per_100k', ascending=False), x='State', y='incidents_per_100k', hue=hue_value)\n",
    "plt.xticks(rotation=90, ha='center')  \n",
    "plt.ylim(0.00)\n",
    "\n",
    "plt.subplot(2,1,2)\n",
    "sns.barplot(data=dflaws.sort_values(by='fatalities_per_100k', ascending=False), x='State', y='fatalities_per_100k', hue=hue_value)\n",
    "plt.xticks(rotation=90, ha='center')  \n",
    "plt.ylim(0.00)\n",
    "\n",
    "plt.tight_layout()\n",
    "plt.show()"
   ]
  },
  {
   "cell_type": "code",
   "execution_count": null,
   "id": "b6b35286-a2bc-4d1f-ac57-7204452d82e3",
   "metadata": {},
   "outputs": [],
   "source": [
    "plt.figure(figsize=(12,10))\n",
    "\n",
    "hue_value = 'College'\n",
    "\n",
    "plt.subplot(2,1,1)\n",
    "sns.barplot(data=dflaws.sort_values(by='incidents_per_100k', ascending=False), x='State', y='incidents_per_100k', hue=hue_value)\n",
    "plt.xticks(rotation=90, ha='center')  \n",
    "plt.ylim(0.00)\n",
    "\n",
    "plt.subplot(2,1,2)\n",
    "sns.barplot(data=dflaws.sort_values(by='fatalities_per_100k', ascending=False), x='State', y='fatalities_per_100k', hue=hue_value)\n",
    "plt.xticks(rotation=90, ha='center')  \n",
    "plt.ylim(0.00)\n",
    "\n",
    "plt.tight_layout()\n",
    "plt.show()"
   ]
  },
  {
   "cell_type": "code",
   "execution_count": null,
   "id": "df8d8737-3e11-4eff-b835-e26dd543bdc4",
   "metadata": {},
   "outputs": [],
   "source": [
    "plt.figure(figsize=(12,10))\n",
    "\n",
    "hue_value = 'State Capitols'\n",
    "\n",
    "plt.subplot(2,1,1)\n",
    "sns.barplot(data=dflaws.sort_values(by='incidents_per_100k', ascending=False), x='State', y='incidents_per_100k', hue=hue_value)\n",
    "plt.xticks(rotation=90, ha='center')  \n",
    "plt.ylim(0.00)\n",
    "\n",
    "plt.subplot(2,1,2)\n",
    "sns.barplot(data=dflaws.sort_values(by='fatalities_per_100k', ascending=False), x='State', y='fatalities_per_100k', hue=hue_value)\n",
    "plt.xticks(rotation=90, ha='center')  \n",
    "plt.ylim(0.00)\n",
    "\n",
    "plt.tight_layout()\n",
    "plt.show()"
   ]
  },
  {
   "cell_type": "code",
   "execution_count": null,
   "id": "d2bdb51e-e7aa-4aac-81a1-878a3b58de0c",
   "metadata": {},
   "outputs": [],
   "source": [
    "plt.figure(figsize=(12,10))\n",
    "\n",
    "hue_value = 'K-12'\n",
    "\n",
    "plt.subplot(2,1,1)\n",
    "sns.barplot(data=dflaws.sort_values(by='incidents_per_100k', ascending=False), x='State', y='incidents_per_100k', hue=hue_value)\n",
    "plt.xticks(rotation=90, ha='center')  \n",
    "plt.ylim(0.00)\n",
    "\n",
    "plt.subplot(2,1,2)\n",
    "sns.barplot(data=dflaws.sort_values(by='fatalities_per_100k', ascending=False), x='State', y='fatalities_per_100k', hue=hue_value)\n",
    "plt.xticks(rotation=90, ha='center')  \n",
    "plt.ylim(0.00)\n",
    "\n",
    "plt.tight_layout()\n",
    "plt.show()"
   ]
  },
  {
   "cell_type": "code",
   "execution_count": null,
   "id": "a48ef8d9-8fee-461c-a0dd-4c10660c2919",
   "metadata": {},
   "outputs": [],
   "source": [
    "plt.figure(figsize=(12,10))\n",
    "\n",
    "hue_value = 'Carry After Violent Offense'\n",
    "\n",
    "plt.subplot(2,1,1)\n",
    "sns.barplot(data=dflaws.sort_values(by='incidents_per_100k', ascending=False), x='State', y='incidents_per_100k', hue=hue_value)\n",
    "plt.xticks(rotation=90, ha='center')  \n",
    "plt.ylim(0.00)\n",
    "\n",
    "plt.subplot(2,1,2)\n",
    "sns.barplot(data=dflaws.sort_values(by='fatalities_per_100k', ascending=False), x='State', y='fatalities_per_100k', hue=hue_value)\n",
    "plt.xticks(rotation=90, ha='center')  \n",
    "plt.ylim(0.00)\n",
    "\n",
    "plt.tight_layout()\n",
    "plt.show()"
   ]
  },
  {
   "cell_type": "code",
   "execution_count": null,
   "id": "fd0a5463-ec43-4fd4-9ff3-f121f17a6b94",
   "metadata": {},
   "outputs": [],
   "source": [
    "plt.figure(figsize=(12,10))\n",
    "\n",
    "hue_value = 'Open Carry'\n",
    "\n",
    "plt.subplot(2,1,1)\n",
    "sns.barplot(data=dflaws.sort_values(by='incidents_per_100k', ascending=False), x='State', y='incidents_per_100k', hue=hue_value)\n",
    "plt.xticks(rotation=90, ha='center')  \n",
    "plt.ylim(0.00)\n",
    "\n",
    "plt.subplot(2,1,2)\n",
    "sns.barplot(data=dflaws.sort_values(by='fatalities_per_100k', ascending=False), x='State', y='fatalities_per_100k', hue=hue_value)\n",
    "plt.xticks(rotation=90, ha='center')  \n",
    "plt.ylim(0.00)\n",
    "\n",
    "plt.tight_layout()\n",
    "plt.show()"
   ]
  },
  {
   "cell_type": "code",
   "execution_count": null,
   "id": "d3b7667e-0772-4ffe-9781-455580ae44aa",
   "metadata": {},
   "outputs": [],
   "source": [
    "plt.figure(figsize=(12,10))\n",
    "\n",
    "hue_value = 'EROP'\n",
    "\n",
    "plt.subplot(2,1,1)\n",
    "sns.barplot(data=dflaws.sort_values(by='incidents_per_100k', ascending=False), x='State', y='incidents_per_100k', hue=hue_value)\n",
    "plt.xticks(rotation=90, ha='center')  \n",
    "plt.ylim(0.00)\n",
    "\n",
    "plt.subplot(2,1,2)\n",
    "sns.barplot(data=dflaws.sort_values(by='fatalities_per_100k', ascending=False), x='State', y='fatalities_per_100k', hue=hue_value)\n",
    "plt.xticks(rotation=90, ha='center')  \n",
    "plt.ylim(0.00)\n",
    "\n",
    "plt.tight_layout()\n",
    "plt.show()"
   ]
  },
  {
   "cell_type": "code",
   "execution_count": null,
   "id": "2f2c560f-29ca-4623-8ebb-2f0f4c736a20",
   "metadata": {},
   "outputs": [],
   "source": [
    "plt.figure(figsize=(12,10))\n",
    "\n",
    "hue_value = 'Felony Prohibitor'\n",
    "\n",
    "plt.subplot(2,1,1)\n",
    "sns.barplot(data=dflaws.sort_values(by='incidents_per_100k', ascending=False), x='State', y='incidents_per_100k', hue=hue_value)\n",
    "plt.xticks(rotation=90, ha='center')  \n",
    "plt.ylim(0.00)\n",
    "\n",
    "plt.subplot(2,1,2)\n",
    "sns.barplot(data=dflaws.sort_values(by='fatalities_per_100k', ascending=False), x='State', y='fatalities_per_100k', hue=hue_value)\n",
    "plt.xticks(rotation=90, ha='center')  \n",
    "plt.ylim(0.00)\n",
    "\n",
    "plt.tight_layout()\n",
    "plt.show()"
   ]
  },
  {
   "cell_type": "code",
   "execution_count": null,
   "id": "1686f508-b605-4b44-8a89-a338356e30df",
   "metadata": {},
   "outputs": [],
   "source": [
    "plt.figure(figsize=(12,10))\n",
    "\n",
    "hue_value = 'Hate Crime Prohibitor'\n",
    "\n",
    "plt.subplot(2,1,1)\n",
    "sns.barplot(data=dflaws.sort_values(by='incidents_per_100k', ascending=False), x='State', y='incidents_per_100k', hue=hue_value)\n",
    "plt.xticks(rotation=90, ha='center')  \n",
    "plt.ylim(0.00)\n",
    "\n",
    "plt.subplot(2,1,2)\n",
    "sns.barplot(data=dflaws.sort_values(by='fatalities_per_100k', ascending=False), x='State', y='fatalities_per_100k', hue=hue_value)\n",
    "plt.xticks(rotation=90, ha='center')  \n",
    "plt.ylim(0.00)\n",
    "\n",
    "plt.tight_layout()\n",
    "plt.show()"
   ]
  },
  {
   "cell_type": "code",
   "execution_count": null,
   "id": "f03f2ff3-d174-4dec-a339-74a6e5e156d3",
   "metadata": {},
   "outputs": [],
   "source": [
    "plt.figure(figsize=(12,10))\n",
    "\n",
    "hue_value = 'Mental Health Prohibitor'\n",
    "plt.subplot(2,1,1)\n",
    "sns.barplot(data=dflaws.sort_values(by='incidents_per_100k', ascending=False), x='State', y='incidents_per_100k', hue=hue_value)\n",
    "plt.xticks(rotation=90, ha='center')  \n",
    "plt.ylim(0.00)\n",
    "\n",
    "plt.subplot(2,1,2)\n",
    "sns.barplot(data=dflaws.sort_values(by='fatalities_per_100k', ascending=False), x='State', y='fatalities_per_100k', hue=hue_value)\n",
    "plt.xticks(rotation=90, ha='center')  \n",
    "plt.ylim(0.00)\n",
    "\n",
    "plt.tight_layout()\n",
    "plt.show()"
   ]
  },
  {
   "cell_type": "code",
   "execution_count": null,
   "id": "6852a0bf-d2f8-43b6-bedd-b2a71f361bd6",
   "metadata": {},
   "outputs": [],
   "source": [
    "plt.figure(figsize=(12,10))\n",
    "\n",
    "hue_value = 'PVO'\n",
    "plt.subplot(2,1,1)\n",
    "sns.barplot(data=dflaws.sort_values(by='incidents_per_100k', ascending=False), x='State', y='incidents_per_100k', hue=hue_value)\n",
    "plt.xticks(rotation=90, ha='center')  \n",
    "plt.ylim(0.00)\n",
    "\n",
    "plt.subplot(2,1,2)\n",
    "sns.barplot(data=dflaws.sort_values(by='fatalities_per_100k', ascending=False), x='State', y='fatalities_per_100k', hue=hue_value)\n",
    "plt.xticks(rotation=90, ha='center')  \n",
    "plt.ylim(0.00)\n",
    "\n",
    "plt.tight_layout()\n",
    "plt.show()"
   ]
  },
  {
   "cell_type": "code",
   "execution_count": null,
   "id": "f208f8e8-1050-4eaf-8633-c9764e539338",
   "metadata": {},
   "outputs": [],
   "source": [
    "correlations = dflaws.corr()['Ranking'].drop('Ranking')\n",
    "print(\"Correlation Coefficients:\")\n",
    "print(correlations)"
   ]
  },
  {
   "cell_type": "code",
   "execution_count": null,
   "id": "69645935",
   "metadata": {},
   "outputs": [],
   "source": [
    "filter = dflaws['State'] == 'Alabama'\n",
    "\n",
    "dflaws[filter]"
   ]
  },
  {
   "cell_type": "code",
   "execution_count": null,
   "id": "8cf7ac0a-2a01-446d-93f9-20fb4ba0a806",
   "metadata": {},
   "outputs": [],
   "source": []
  },
  {
   "cell_type": "code",
   "execution_count": null,
   "id": "32fe56f6-4f3b-415e-af62-c96dfa634004",
   "metadata": {},
   "outputs": [],
   "source": []
  },
  {
   "cell_type": "code",
   "execution_count": null,
   "id": "4998e301-9342-4d8f-8630-75d8cf40c4e5",
   "metadata": {},
   "outputs": [],
   "source": []
  }
 ],
 "metadata": {
  "kernelspec": {
   "display_name": "Python 3 (ipykernel)",
   "language": "python",
   "name": "python3"
  },
  "language_info": {
   "codemirror_mode": {
    "name": "ipython",
    "version": 3
   },
   "file_extension": ".py",
   "mimetype": "text/x-python",
   "name": "python",
   "nbconvert_exporter": "python",
   "pygments_lexer": "ipython3",
   "version": "3.9.13"
  }
 },
 "nbformat": 4,
 "nbformat_minor": 5
}
